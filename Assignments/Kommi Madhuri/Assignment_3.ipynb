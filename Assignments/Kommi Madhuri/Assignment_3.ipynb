{
  "cells": [
    {
      "cell_type": "code",
      "execution_count": 1,
      "metadata": {
        "id": "b70c132b"
      },
      "outputs": [],
      "source": [
        "from google.colab import drive"
      ],
      "id": "b70c132b"
    },
    {
      "cell_type": "code",
      "execution_count": 2,
      "metadata": {
        "colab": {
          "base_uri": "https://localhost:8080/"
        },
        "id": "gYOUoWn6Mx0i",
        "outputId": "749455b5-981d-4d23-f9f2-fc380a3a4f83"
      },
      "outputs": [
        {
          "output_type": "stream",
          "name": "stdout",
          "text": [
            "Mounted at /content/drive\n"
          ]
        }
      ],
      "source": [
        "drive.mount('/content/drive')"
      ],
      "id": "gYOUoWn6Mx0i"
    },
    {
      "cell_type": "code",
      "source": [
        "from tensorflow.keras.preprocessing.image import ImageDataGenerator"
      ],
      "metadata": {
        "id": "SripdoeiVASx"
      },
      "id": "SripdoeiVASx",
      "execution_count": 77,
      "outputs": []
    },
    {
      "cell_type": "code",
      "source": [
        "train_datagen = ImageDataGenerator(rescale=1./255,zoom_range=0.2,horizontal_flip=True,vertical_flip=False,validation_split=0.2)"
      ],
      "metadata": {
        "id": "aP_XKcn7ZV_2"
      },
      "id": "aP_XKcn7ZV_2",
      "execution_count": 78,
      "outputs": []
    },
    {
      "cell_type": "code",
      "source": [
        "test_datagen = ImageDataGenerator(rescale=1./255,validation_split=0.2)"
      ],
      "metadata": {
        "id": "ptPHGQIuZe3y"
      },
      "id": "ptPHGQIuZe3y",
      "execution_count": 79,
      "outputs": []
    },
    {
      "cell_type": "code",
      "source": [
        "#to split data into train and test add validation_split and subset\n",
        "x_train=train_datagen.flow_from_directory(r\"/content/drive/MyDrive/flowers\",target_size=(64,64),class_mode='categorical',batch_size=100,subset = 'training')"
      ],
      "metadata": {
        "colab": {
          "base_uri": "https://localhost:8080/"
        },
        "id": "uXjHw7GRZgWD",
        "outputId": "183c93e7-406b-4244-ce5e-3cc8680caac7"
      },
      "execution_count": 96,
      "outputs": [
        {
          "output_type": "stream",
          "name": "stdout",
          "text": [
            "Found 3457 images belonging to 5 classes.\n"
          ]
        }
      ],
      "id": "uXjHw7GRZgWD"
    },
    {
      "cell_type": "code",
      "source": [
        "x_test=test_datagen.flow_from_directory(r\"/content/drive/MyDrive/flowers\",target_size=(64,64),class_mode='categorical',batch_size=100,subset = 'validation')"
      ],
      "metadata": {
        "colab": {
          "base_uri": "https://localhost:8080/"
        },
        "id": "D8SBQgYZZgTh",
        "outputId": "545f93e5-237b-4476-894f-1a9cd915b571"
      },
      "id": "D8SBQgYZZgTh",
      "execution_count": 97,
      "outputs": [
        {
          "output_type": "stream",
          "name": "stdout",
          "text": [
            "Found 860 images belonging to 5 classes.\n"
          ]
        }
      ]
    },
    {
      "cell_type": "code",
      "source": [
        "x_train.class_indices"
      ],
      "metadata": {
        "colab": {
          "base_uri": "https://localhost:8080/"
        },
        "id": "IPb0ZbTEjyO7",
        "outputId": "7bff6da4-bf5c-4846-d413-af7013330b2b"
      },
      "id": "IPb0ZbTEjyO7",
      "execution_count": 98,
      "outputs": [
        {
          "output_type": "execute_result",
          "data": {
            "text/plain": [
              "{'daisy': 0, 'dandelion': 1, 'rose': 2, 'sunflower': 3, 'tulip': 4}"
            ]
          },
          "metadata": {},
          "execution_count": 98
        }
      ]
    },
    {
      "cell_type": "code",
      "source": [],
      "metadata": {
        "id": "T3abFznyQcY8"
      },
      "id": "T3abFznyQcY8",
      "execution_count": null,
      "outputs": []
    },
    {
      "cell_type": "code",
      "source": [
        "from tensorflow.keras.models import Sequential\n"
      ],
      "metadata": {
        "id": "_ZnxvD64jyVK"
      },
      "id": "_ZnxvD64jyVK",
      "execution_count": 99,
      "outputs": []
    },
    {
      "cell_type": "code",
      "source": [
        "from tensorflow.keras.layers import Dense,Convolution2D,MaxPooling2D,Flatten\n"
      ],
      "metadata": {
        "id": "y-BROA_0EDLU"
      },
      "id": "y-BROA_0EDLU",
      "execution_count": 100,
      "outputs": []
    },
    {
      "cell_type": "code",
      "source": [
        "model=Sequential()"
      ],
      "metadata": {
        "id": "Smq2dKVKELp6"
      },
      "id": "Smq2dKVKELp6",
      "execution_count": 101,
      "outputs": []
    },
    {
      "cell_type": "code",
      "source": [
        "model.add(Convolution2D(32,(3,3),input_shape=(64,64,3),activation='relu'))"
      ],
      "metadata": {
        "id": "dh2vUzXWjyXy"
      },
      "id": "dh2vUzXWjyXy",
      "execution_count": 102,
      "outputs": []
    },
    {
      "cell_type": "code",
      "source": [
        "model.add(MaxPooling2D(pool_size=(2,2)))\n"
      ],
      "metadata": {
        "id": "JgEyHH5cjyaS"
      },
      "id": "JgEyHH5cjyaS",
      "execution_count": 103,
      "outputs": []
    },
    {
      "cell_type": "code",
      "source": [
        "model.add(Flatten())"
      ],
      "metadata": {
        "id": "F9Q8STWDLMEs"
      },
      "id": "F9Q8STWDLMEs",
      "execution_count": 104,
      "outputs": []
    },
    {
      "cell_type": "code",
      "source": [
        "model.summary()"
      ],
      "metadata": {
        "colab": {
          "base_uri": "https://localhost:8080/"
        },
        "id": "QtXjtXTMjycY",
        "outputId": "a8115eb6-de8c-4d53-9c2c-f2a116f4e7d6"
      },
      "id": "QtXjtXTMjycY",
      "execution_count": 105,
      "outputs": [
        {
          "output_type": "stream",
          "name": "stdout",
          "text": [
            "Model: \"sequential_8\"\n",
            "_________________________________________________________________\n",
            " Layer (type)                Output Shape              Param #   \n",
            "=================================================================\n",
            " conv2d_9 (Conv2D)           (None, 62, 62, 32)        896       \n",
            "                                                                 \n",
            " max_pooling2d_6 (MaxPooling  (None, 31, 31, 32)       0         \n",
            " 2D)                                                             \n",
            "                                                                 \n",
            " flatten_6 (Flatten)         (None, 30752)             0         \n",
            "                                                                 \n",
            "=================================================================\n",
            "Total params: 896\n",
            "Trainable params: 896\n",
            "Non-trainable params: 0\n",
            "_________________________________________________________________\n"
          ]
        }
      ]
    },
    {
      "cell_type": "code",
      "source": [
        "#hidden layers\n",
        "model.add(Dense(300,activation='relu'))\n",
        "model.add(Dense(150,activation='relu'))\n",
        "model.add(Dense(75,activation='relu'))\n",
        "model.add(Dense(5,activation='softmax'))#op layer"
      ],
      "metadata": {
        "id": "fRVOgw-UmtD8"
      },
      "id": "fRVOgw-UmtD8",
      "execution_count": 106,
      "outputs": []
    },
    {
      "cell_type": "code",
      "source": [
        "model.compile(loss='categorical_crossentropy',optimizer='adam',metrics=['accuracy'])"
      ],
      "metadata": {
        "id": "POhwp4X9mtGT"
      },
      "id": "POhwp4X9mtGT",
      "execution_count": 107,
      "outputs": []
    },
    {
      "cell_type": "code",
      "source": [
        "len(x_train)"
      ],
      "metadata": {
        "colab": {
          "base_uri": "https://localhost:8080/"
        },
        "id": "IIsMzkLTms8n",
        "outputId": "81bc534c-fb31-437d-8c0e-c1c8537ad28b"
      },
      "id": "IIsMzkLTms8n",
      "execution_count": 108,
      "outputs": [
        {
          "output_type": "execute_result",
          "data": {
            "text/plain": [
              "35"
            ]
          },
          "metadata": {},
          "execution_count": 108
        }
      ]
    },
    {
      "cell_type": "code",
      "source": [
        "3457/100"
      ],
      "metadata": {
        "colab": {
          "base_uri": "https://localhost:8080/"
        },
        "id": "3-uOr42wmtIg",
        "outputId": "09144891-4309-4dfb-bac5-2712b00be381"
      },
      "id": "3-uOr42wmtIg",
      "execution_count": 112,
      "outputs": [
        {
          "output_type": "execute_result",
          "data": {
            "text/plain": [
              "34.57"
            ]
          },
          "metadata": {},
          "execution_count": 112
        }
      ]
    },
    {
      "cell_type": "code",
      "source": [
        "len(x_test)"
      ],
      "metadata": {
        "colab": {
          "base_uri": "https://localhost:8080/"
        },
        "id": "h5TC2QyvqJP6",
        "outputId": "ca714dfc-4947-4c89-abce-9ec0cb27be9f"
      },
      "id": "h5TC2QyvqJP6",
      "execution_count": 110,
      "outputs": [
        {
          "output_type": "execute_result",
          "data": {
            "text/plain": [
              "9"
            ]
          },
          "metadata": {},
          "execution_count": 110
        }
      ]
    },
    {
      "cell_type": "code",
      "source": [
        "model.fit(x_train,steps_per_epoch=len(x_train),validation_data=x_test,validation_steps=len(x_test),epochs=30)"
      ],
      "metadata": {
        "colab": {
          "base_uri": "https://localhost:8080/"
        },
        "id": "JeO3Ys2GmtKi",
        "outputId": "c79c42a0-c283-451e-866b-707627c232b8"
      },
      "id": "JeO3Ys2GmtKi",
      "execution_count": 115,
      "outputs": [
        {
          "output_type": "stream",
          "name": "stdout",
          "text": [
            "Epoch 1/30\n",
            "35/35 [==============================] - 33s 950ms/step - loss: 0.4863 - accuracy: 0.8261 - val_loss: 1.3241 - val_accuracy: 0.5930\n",
            "Epoch 2/30\n",
            "35/35 [==============================] - 33s 932ms/step - loss: 0.4793 - accuracy: 0.8230 - val_loss: 1.3508 - val_accuracy: 0.6163\n",
            "Epoch 3/30\n",
            "35/35 [==============================] - 33s 926ms/step - loss: 0.4529 - accuracy: 0.8241 - val_loss: 1.3197 - val_accuracy: 0.5860\n",
            "Epoch 4/30\n",
            "35/35 [==============================] - 32s 925ms/step - loss: 0.4372 - accuracy: 0.8426 - val_loss: 1.2772 - val_accuracy: 0.6326\n",
            "Epoch 5/30\n",
            "35/35 [==============================] - 32s 919ms/step - loss: 0.3831 - accuracy: 0.8568 - val_loss: 1.5694 - val_accuracy: 0.5849\n",
            "Epoch 6/30\n",
            "35/35 [==============================] - 32s 919ms/step - loss: 0.3878 - accuracy: 0.8597 - val_loss: 1.2102 - val_accuracy: 0.6488\n",
            "Epoch 7/30\n",
            "35/35 [==============================] - 33s 928ms/step - loss: 0.3470 - accuracy: 0.8805 - val_loss: 1.3690 - val_accuracy: 0.6233\n",
            "Epoch 8/30\n",
            "35/35 [==============================] - 32s 922ms/step - loss: 0.3300 - accuracy: 0.8872 - val_loss: 1.3737 - val_accuracy: 0.6360\n",
            "Epoch 9/30\n",
            "35/35 [==============================] - 33s 937ms/step - loss: 0.3249 - accuracy: 0.8823 - val_loss: 1.5146 - val_accuracy: 0.6279\n",
            "Epoch 10/30\n",
            "35/35 [==============================] - 33s 926ms/step - loss: 0.3242 - accuracy: 0.8794 - val_loss: 1.4434 - val_accuracy: 0.6326\n",
            "Epoch 11/30\n",
            "35/35 [==============================] - 33s 934ms/step - loss: 0.2771 - accuracy: 0.9043 - val_loss: 1.3744 - val_accuracy: 0.6477\n",
            "Epoch 12/30\n",
            "35/35 [==============================] - 33s 950ms/step - loss: 0.2410 - accuracy: 0.9135 - val_loss: 1.7165 - val_accuracy: 0.6302\n",
            "Epoch 13/30\n",
            "35/35 [==============================] - 33s 944ms/step - loss: 0.2448 - accuracy: 0.9121 - val_loss: 1.5927 - val_accuracy: 0.6093\n",
            "Epoch 14/30\n",
            "35/35 [==============================] - 36s 1s/step - loss: 0.2700 - accuracy: 0.9077 - val_loss: 1.5080 - val_accuracy: 0.6337\n",
            "Epoch 15/30\n",
            "35/35 [==============================] - 34s 960ms/step - loss: 0.2475 - accuracy: 0.9092 - val_loss: 1.5869 - val_accuracy: 0.6337\n",
            "Epoch 16/30\n",
            "35/35 [==============================] - 34s 961ms/step - loss: 0.2255 - accuracy: 0.9251 - val_loss: 1.5303 - val_accuracy: 0.6581\n",
            "Epoch 17/30\n",
            "35/35 [==============================] - 34s 969ms/step - loss: 0.1683 - accuracy: 0.9439 - val_loss: 1.8287 - val_accuracy: 0.6209\n",
            "Epoch 18/30\n",
            "35/35 [==============================] - 34s 957ms/step - loss: 0.2143 - accuracy: 0.9225 - val_loss: 1.7494 - val_accuracy: 0.6279\n",
            "Epoch 19/30\n",
            "35/35 [==============================] - 34s 968ms/step - loss: 0.1827 - accuracy: 0.9340 - val_loss: 1.8444 - val_accuracy: 0.6116\n",
            "Epoch 20/30\n",
            "35/35 [==============================] - 34s 963ms/step - loss: 0.2180 - accuracy: 0.9300 - val_loss: 1.7823 - val_accuracy: 0.5977\n",
            "Epoch 21/30\n",
            "35/35 [==============================] - 34s 954ms/step - loss: 0.1630 - accuracy: 0.9459 - val_loss: 1.6510 - val_accuracy: 0.6500\n",
            "Epoch 22/30\n",
            "35/35 [==============================] - 34s 956ms/step - loss: 0.1381 - accuracy: 0.9543 - val_loss: 1.6596 - val_accuracy: 0.6349\n",
            "Epoch 23/30\n",
            "35/35 [==============================] - 34s 964ms/step - loss: 0.1241 - accuracy: 0.9581 - val_loss: 2.1146 - val_accuracy: 0.6209\n",
            "Epoch 24/30\n",
            "35/35 [==============================] - 35s 995ms/step - loss: 0.1484 - accuracy: 0.9479 - val_loss: 1.8599 - val_accuracy: 0.6407\n",
            "Epoch 25/30\n",
            "35/35 [==============================] - 35s 999ms/step - loss: 0.1400 - accuracy: 0.9531 - val_loss: 1.8035 - val_accuracy: 0.6233\n",
            "Epoch 26/30\n",
            "35/35 [==============================] - 35s 985ms/step - loss: 0.1397 - accuracy: 0.9537 - val_loss: 2.0482 - val_accuracy: 0.6023\n",
            "Epoch 27/30\n",
            "35/35 [==============================] - 34s 969ms/step - loss: 0.1177 - accuracy: 0.9589 - val_loss: 1.9821 - val_accuracy: 0.6023\n",
            "Epoch 28/30\n",
            "35/35 [==============================] - 34s 957ms/step - loss: 0.0901 - accuracy: 0.9734 - val_loss: 2.3850 - val_accuracy: 0.6093\n",
            "Epoch 29/30\n",
            "35/35 [==============================] - 33s 943ms/step - loss: 0.1163 - accuracy: 0.9624 - val_loss: 2.2573 - val_accuracy: 0.6244\n",
            "Epoch 30/30\n",
            "35/35 [==============================] - 34s 968ms/step - loss: 0.1102 - accuracy: 0.9633 - val_loss: 2.1816 - val_accuracy: 0.6267\n"
          ]
        },
        {
          "output_type": "execute_result",
          "data": {
            "text/plain": [
              "<keras.callbacks.History at 0x7f5dfca37b90>"
            ]
          },
          "metadata": {},
          "execution_count": 115
        }
      ]
    },
    {
      "cell_type": "code",
      "source": [
        "model.save('flowers.h5')"
      ],
      "metadata": {
        "id": "bCKGOd4OmtsT"
      },
      "id": "bCKGOd4OmtsT",
      "execution_count": 116,
      "outputs": []
    },
    {
      "cell_type": "code",
      "source": [
        "import numpy as np\n",
        "from tensorflow.keras.models import load_model\n",
        "from tensorflow.keras.preprocessing import image"
      ],
      "metadata": {
        "id": "dosljxTPmtug"
      },
      "id": "dosljxTPmtug",
      "execution_count": 117,
      "outputs": []
    },
    {
      "cell_type": "code",
      "source": [
        "model=load_model('flowers.h5')"
      ],
      "metadata": {
        "id": "zywlEx6Rmtws"
      },
      "id": "zywlEx6Rmtws",
      "execution_count": 118,
      "outputs": []
    },
    {
      "cell_type": "code",
      "source": [
        "img = image.load_img(r\"/content/drive/MyDrive/flowers/sunflower/9904127656_f76a5a4811_m.jpg\")"
      ],
      "metadata": {
        "id": "yZjIgqAdzUJY"
      },
      "id": "yZjIgqAdzUJY",
      "execution_count": 120,
      "outputs": []
    },
    {
      "cell_type": "code",
      "source": [
        "img"
      ],
      "metadata": {
        "colab": {
          "base_uri": "https://localhost:8080/",
          "height": 257
        },
        "id": "MZ4g-bDkzUL9",
        "outputId": "9700c075-0b6e-401c-af64-f3fa148df7ea"
      },
      "id": "MZ4g-bDkzUL9",
      "execution_count": 121,
      "outputs": [
        {
          "output_type": "execute_result",
          "data": {
            "text/plain": [
              "<PIL.JpegImagePlugin.JpegImageFile image mode=RGB size=159x240 at 0x7F5DFC9CFC90>"
            ],
            "image/png": "[encoded data removed]"
          },
          "metadata": {},
          "execution_count": 121
        }
      ]
    },
    {
      "cell_type": "code",
      "source": [
        "img = image.load_img(r\"/content/drive/MyDrive/flowers/sunflower/9904127656_f76a5a4811_m.jpg\",target_size=(64,64))"
      ],
      "metadata": {
        "id": "ra-A9Z5hzUOr"
      },
      "id": "ra-A9Z5hzUOr",
      "execution_count": 122,
      "outputs": []
    },
    {
      "cell_type": "code",
      "source": [
        "img"
      ],
      "metadata": {
        "colab": {
          "base_uri": "https://localhost:8080/",
          "height": 81
        },
        "id": "W3RVd0UQ051H",
        "outputId": "668cb173-fc9a-4ab6-ee95-6b06db47eaea"
      },
      "id": "W3RVd0UQ051H",
      "execution_count": 123,
      "outputs": [
        {
          "output_type": "execute_result",
          "data": {
            "text/plain": [
              "<PIL.Image.Image image mode=RGB size=64x64 at 0x7F5DFC9CA410>"
            ],
            "image/png": "[encoded data removed]"
          },
          "metadata": {},
          "execution_count": 123
        }
      ]
    },
    {
      "cell_type": "code",
      "source": [
        "x=image.img_to_array(img)"
      ],
      "metadata": {
        "id": "QtxrvQht0532"
      },
      "id": "QtxrvQht0532",
      "execution_count": 124,
      "outputs": []
    },
    {
      "cell_type": "code",
      "source": [
        "x"
      ],
      "metadata": {
        "colab": {
          "base_uri": "https://localhost:8080/"
        },
        "id": "vs88lz4i1BRU",
        "outputId": "f69b6668-ed6f-4152-aff0-3c2fcdef5adc"
      },
      "id": "vs88lz4i1BRU",
      "execution_count": 125,
      "outputs": [
        {
          "output_type": "execute_result",
          "data": {
            "text/plain": [
              "array([[[ 94.,  61.,  30.],\n",
              "        [137.,  98.,  57.],\n",
              "        [141., 105.,  57.],\n",
              "        ...,\n",
              "        [181., 174., 119.],\n",
              "        [186., 173., 120.],\n",
              "        [185., 174., 118.]],\n",
              "\n",
              "       [[130.,  81.,  38.],\n",
              "        [155., 108.,  62.],\n",
              "        [143., 105.,  56.],\n",
              "        ...,\n",
              "        [177., 171., 111.],\n",
              "        [184., 174., 115.],\n",
              "        [185., 168., 112.]],\n",
              "\n",
              "       [[157., 107.,  56.],\n",
              "        [152., 106.,  57.],\n",
              "        [148., 107.,  53.],\n",
              "        ...,\n",
              "        [116.,  65.,  22.],\n",
              "        [ 87.,  52.,   0.],\n",
              "        [114.,  90.,  28.]],\n",
              "\n",
              "       ...,\n",
              "\n",
              "       [[245., 244., 249.],\n",
              "        [244., 245., 249.],\n",
              "        [218., 222., 225.],\n",
              "        ...,\n",
              "        [171., 142., 100.],\n",
              "        [172., 144.,  94.],\n",
              "        [165., 137.,  89.]],\n",
              "\n",
              "       [[246., 248., 247.],\n",
              "        [241., 242., 244.],\n",
              "        [207., 207., 205.],\n",
              "        ...,\n",
              "        [173., 144., 100.],\n",
              "        [176., 148., 100.],\n",
              "        [171., 143.,  96.]],\n",
              "\n",
              "       [[249., 249., 251.],\n",
              "        [244., 248., 249.],\n",
              "        [203., 191., 177.],\n",
              "        ...,\n",
              "        [164., 136.,  86.],\n",
              "        [168., 140.,  93.],\n",
              "        [169., 140.,  98.]]], dtype=float32)"
            ]
          },
          "metadata": {},
          "execution_count": 125
        }
      ]
    },
    {
      "cell_type": "code",
      "source": [
        "x.shape"
      ],
      "metadata": {
        "colab": {
          "base_uri": "https://localhost:8080/"
        },
        "id": "tfyFF43l1CLT",
        "outputId": "6051d919-7ca0-4d3e-8da5-5804e57d2cf3"
      },
      "id": "tfyFF43l1CLT",
      "execution_count": 126,
      "outputs": [
        {
          "output_type": "execute_result",
          "data": {
            "text/plain": [
              "(64, 64, 3)"
            ]
          },
          "metadata": {},
          "execution_count": 126
        }
      ]
    },
    {
      "cell_type": "code",
      "source": [
        "x=np.expand_dims(x,axis=0)\n",
        "x.shape"
      ],
      "metadata": {
        "colab": {
          "base_uri": "https://localhost:8080/"
        },
        "id": "kkQmMder1BUJ",
        "outputId": "c717b70b-6c08-4876-b4cb-4cb86b73be71"
      },
      "id": "kkQmMder1BUJ",
      "execution_count": 127,
      "outputs": [
        {
          "output_type": "execute_result",
          "data": {
            "text/plain": [
              "(1, 64, 64, 3)"
            ]
          },
          "metadata": {},
          "execution_count": 127
        }
      ]
    },
    {
      "cell_type": "code",
      "source": [
        "y=np.argmax(model.predict(x),axis=1)"
      ],
      "metadata": {
        "id": "OguyfN171BWw"
      },
      "id": "OguyfN171BWw",
      "execution_count": 128,
      "outputs": []
    },
    {
      "cell_type": "code",
      "source": [
        "y"
      ],
      "metadata": {
        "colab": {
          "base_uri": "https://localhost:8080/"
        },
        "id": "oma8NHlf1BZG",
        "outputId": "015a8561-0125-4f99-e1a2-391d7a4c7894"
      },
      "id": "oma8NHlf1BZG",
      "execution_count": 129,
      "outputs": [
        {
          "output_type": "execute_result",
          "data": {
            "text/plain": [
              "array([3])"
            ]
          },
          "metadata": {},
          "execution_count": 129
        }
      ]
    },
    {
      "cell_type": "code",
      "source": [
        "x_train.class_indices"
      ],
      "metadata": {
        "colab": {
          "base_uri": "https://localhost:8080/"
        },
        "id": "CB8DO1B81R_m",
        "outputId": "085b1668-16ff-4bf8-bee5-7168dedb30f2"
      },
      "id": "CB8DO1B81R_m",
      "execution_count": 130,
      "outputs": [
        {
          "output_type": "execute_result",
          "data": {
            "text/plain": [
              "{'daisy': 0, 'dandelion': 1, 'rose': 2, 'sunflower': 3, 'tulip': 4}"
            ]
          },
          "metadata": {},
          "execution_count": 130
        }
      ]
    },
    {
      "cell_type": "code",
      "source": [
        "img = image.load_img(r\"/content/drive/MyDrive/flowers/tulip/9444202147_405290415b_n.jpg\",target_size=(64,64))\n",
        "print(img)\n",
        "x=image.img_to_array(img)\n",
        "print(x)\n",
        "x=np.expand_dims(x,axis=0)\n",
        "print(x.shape)\n",
        "y=np.argmax(model.predict(x),axis=1)\n",
        "print(x_train.class_indices)\n",
        "print(y)"
      ],
      "metadata": {
        "colab": {
          "base_uri": "https://localhost:8080/"
        },
        "id": "3ujosUMO1x1t",
        "outputId": "ab8d7a4f-3d49-4b5e-c572-988fd3a903e6"
      },
      "id": "3ujosUMO1x1t",
      "execution_count": 138,
      "outputs": [
        {
          "output_type": "stream",
          "name": "stdout",
          "text": [
            "<PIL.Image.Image image mode=RGB size=64x64 at 0x7F5DFC8AEA90>\n",
            "[[[ 69.  66.  57.]\n",
            "  [ 71.  68.  59.]\n",
            "  [ 73.  70.  63.]\n",
            "  ...\n",
            "  [ 36.  36.  26.]\n",
            "  [ 37.  34.  25.]\n",
            "  [ 36.  33.  24.]]\n",
            "\n",
            " [[ 75.  72.  63.]\n",
            "  [ 77.  74.  65.]\n",
            "  [ 82.  78.  69.]\n",
            "  ...\n",
            "  [ 37.  37.  25.]\n",
            "  [ 40.  38.  26.]\n",
            "  [ 38.  36.  24.]]\n",
            "\n",
            " [[ 87.  85.  73.]\n",
            "  [ 91.  89.  77.]\n",
            "  [ 94.  90.  78.]\n",
            "  ...\n",
            "  [ 46.  44.  32.]\n",
            "  [ 44.  42.  30.]\n",
            "  [ 41.  39.  27.]]\n",
            "\n",
            " ...\n",
            "\n",
            " [[ 76.  82.  56.]\n",
            "  [ 73.  79.  53.]\n",
            "  [ 68.  73.  50.]\n",
            "  ...\n",
            "  [122. 129. 139.]\n",
            "  [128. 132. 144.]\n",
            "  [128. 132. 143.]]\n",
            "\n",
            " [[ 74.  83.  54.]\n",
            "  [ 74.  80.  54.]\n",
            "  [ 69.  74.  51.]\n",
            "  ...\n",
            "  [122. 129. 139.]\n",
            "  [124. 130. 142.]\n",
            "  [124. 128. 139.]]\n",
            "\n",
            " [[ 77.  83.  55.]\n",
            "  [ 77.  81.  56.]\n",
            "  [ 71.  76.  53.]\n",
            "  ...\n",
            "  [122. 124. 137.]\n",
            "  [121. 127. 139.]\n",
            "  [121. 125. 136.]]]\n",
            "(1, 64, 64, 3)\n",
            "{'daisy': 0, 'dandelion': 1, 'rose': 2, 'sunflower': 3, 'tulip': 4}\n",
            "[4]\n"
          ]
        }
      ]
    }
  ],
  "metadata": {
    "colab": {
      "provenance": [],
      "collapsed_sections": []
    },
    "kernelspec": {
      "display_name": "Python 3",
      "language": "python",
      "name": "python3"
    },
    "language_info": {
      "codemirror_mode": {
        "name": "ipython",
        "version": 3
      },
      "file_extension": ".py",
      "mimetype": "text/x-python",
      "name": "python",
      "nbconvert_exporter": "python",
      "pygments_lexer": "ipython3",
      "version": "3.8.8"
    }
  },
  "nbformat": 4,
  "nbformat_minor": 5
}